{
  "nbformat": 4,
  "nbformat_minor": 0,
  "metadata": {
    "colab": {
      "name": "호서대학교여름계절학기.ipynb",
      "provenance": [],
      "collapsed_sections": []
    },
    "kernelspec": {
      "display_name": "Python 3",
      "name": "python3"
    },
    "language_info": {
      "name": "python"
    }
  },
  "cells": [
    {
      "cell_type": "markdown",
      "metadata": {
        "id": "bSBb0TDTWy2D"
      },
      "source": [
        "주제 의견: 주식\n",
        "\n",
        "\n",
        "이름 : 김호영 \n",
        "\n",
        "\n",
        "거주지: 서울\n",
        "\n",
        "\n",
        "나이 :34\n",
        "\n",
        "\n",
        "직업 :회사 사무직\n",
        "\n",
        "\n",
        "특징:일반적으로 직장인 월급으론 결혼자금, 노후자금등 필요한 돈을 모으기엔 너무 \n",
        "오래걸리고 힘든것을 깨달아 주식을 시작하여 재산을 늘리려함\n",
        "\n",
        "\n",
        " 문제해결방법 : 주식만보면 다른일은못하는것을 방지하기위해 자동화프로그램 , \n",
        "상한가 하한가예측프로스램, 단타 장타 예측분석프로그램, 뉴스로 오르는 분야 분석예측\n"
      ]
    },
    {
      "cell_type": "code",
      "metadata": {
        "colab": {
          "base_uri": "https://localhost:8080/"
        },
        "id": "bOyOvDvGWtk-",
        "outputId": "7eb10245-43cb-4b2b-a7cd-724993f83b8f"
      },
      "source": [
        "!pip install --target=$my_path pykrx"
      ],
      "execution_count": null,
      "outputs": [
        {
          "output_type": "stream",
          "text": [
            "Collecting pykrx\n",
            "\u001b[?25l  Downloading https://files.pythonhosted.org/packages/b2/4d/3f1ed0ac3fc53385686e2bdbb3fa2a7de12dc1b422c1ee92ac8209f347dc/pykrx-1.0.16-py3-none-any.whl (81kB)\n",
            "\u001b[K     |████████████████████████████████| 81kB 2.5MB/s \n",
            "\u001b[?25hRequirement already satisfied: xlrd in /usr/local/lib/python3.7/dist-packages (from pykrx) (1.1.0)\n",
            "Collecting deprecated\n",
            "  Downloading https://files.pythonhosted.org/packages/fb/73/994edfcba74443146c84b91921fcc269374354118d4f452fb0c54c1cbb12/Deprecated-1.2.12-py2.py3-none-any.whl\n",
            "Collecting datetime\n",
            "\u001b[?25l  Downloading https://files.pythonhosted.org/packages/73/22/a5297f3a1f92468cc737f8ce7ba6e5f245fcfafeae810ba37bd1039ea01c/DateTime-4.3-py2.py3-none-any.whl (60kB)\n",
            "\u001b[K     |████████████████████████████████| 61kB 5.8MB/s \n",
            "\u001b[?25hRequirement already satisfied: numpy in /usr/local/lib/python3.7/dist-packages (from pykrx) (1.19.5)\n",
            "Requirement already satisfied: pandas in /usr/local/lib/python3.7/dist-packages (from pykrx) (1.1.5)\n",
            "Requirement already satisfied: requests in /usr/local/lib/python3.7/dist-packages (from pykrx) (2.23.0)\n",
            "Requirement already satisfied: wrapt<2,>=1.10 in /usr/local/lib/python3.7/dist-packages (from deprecated->pykrx) (1.12.1)\n",
            "Collecting zope.interface\n",
            "\u001b[?25l  Downloading https://files.pythonhosted.org/packages/bb/a7/94e1a92c71436f934cdd2102826fa041c83dcb7d21dd0f1fb1a57f6e0620/zope.interface-5.4.0-cp37-cp37m-manylinux2010_x86_64.whl (251kB)\n",
            "\u001b[K     |████████████████████████████████| 256kB 16.5MB/s \n",
            "\u001b[?25hRequirement already satisfied: pytz in /usr/local/lib/python3.7/dist-packages (from datetime->pykrx) (2018.9)\n",
            "Requirement already satisfied: python-dateutil>=2.7.3 in /usr/local/lib/python3.7/dist-packages (from pandas->pykrx) (2.8.1)\n",
            "Requirement already satisfied: urllib3!=1.25.0,!=1.25.1,<1.26,>=1.21.1 in /usr/local/lib/python3.7/dist-packages (from requests->pykrx) (1.24.3)\n",
            "Requirement already satisfied: certifi>=2017.4.17 in /usr/local/lib/python3.7/dist-packages (from requests->pykrx) (2021.5.30)\n",
            "Requirement already satisfied: chardet<4,>=3.0.2 in /usr/local/lib/python3.7/dist-packages (from requests->pykrx) (3.0.4)\n",
            "Requirement already satisfied: idna<3,>=2.5 in /usr/local/lib/python3.7/dist-packages (from requests->pykrx) (2.10)\n",
            "Requirement already satisfied: setuptools in /usr/local/lib/python3.7/dist-packages (from zope.interface->datetime->pykrx) (57.0.0)\n",
            "Requirement already satisfied: six>=1.5 in /usr/local/lib/python3.7/dist-packages (from python-dateutil>=2.7.3->pandas->pykrx) (1.15.0)\n",
            "Installing collected packages: deprecated, zope.interface, datetime, pykrx\n",
            "Successfully installed datetime-4.3 deprecated-1.2.12 pykrx-1.0.16 zope.interface-5.4.0\n"
          ],
          "name": "stdout"
        }
      ]
    },
    {
      "cell_type": "code",
      "metadata": {
        "colab": {
          "base_uri": "https://localhost:8080/"
        },
        "id": "4CnQsd2TW4mK",
        "outputId": "d73b46c8-184d-40ee-b9ed-74f7ac7bb3fd"
      },
      "source": [
        "import pandas as pd\n",
        "import pykrx as krx\n",
        "\n",
        "print('run!')"
      ],
      "execution_count": null,
      "outputs": [
        {
          "output_type": "stream",
          "text": [
            "run!\n"
          ],
          "name": "stdout"
        }
      ]
    },
    {
      "cell_type": "code",
      "metadata": {
        "colab": {
          "base_uri": "https://localhost:8080/"
        },
        "id": "tmwrEIqKWyfc",
        "outputId": "263f40cf-c007-4ba5-d0b8-3777d26fa88a"
      },
      "source": [
        "from pykrx import stock\n",
        "serch_stock = input('주식 이름 검색 : ')"
      ],
      "execution_count": null,
      "outputs": [
        {
          "output_type": "stream",
          "text": [
            "주식 이름 검색 : 삼성전자\n"
          ],
          "name": "stdout"
        }
      ]
    },
    {
      "cell_type": "code",
      "metadata": {
        "id": "tCdzr3EMWydA",
        "colab": {
          "base_uri": "https://localhost:8080/"
        },
        "outputId": "977e0ccd-acca-4ff2-f4dd-eb4ac6f507ef"
      },
      "source": [
        "import datetime as DT\n",
        "import numpy as np\n",
        "import matplotlib.pyplot as plt\n",
        "from keras.models import Sequential\n",
        "from keras.layers import Dense\n",
        "from keras.layers import LSTM\n",
        "\n",
        "\n",
        "nowTime = DT.datetime.today()\n",
        "\n",
        "nowTime.strftime(\"%Y%m%d\")\n",
        "\n",
        "long_or_short = input('단타? 장타? :')\n"
      ],
      "execution_count": null,
      "outputs": [
        {
          "output_type": "stream",
          "text": [
            "단타? 장타? :단타\n"
          ],
          "name": "stdout"
        }
      ]
    },
    {
      "cell_type": "code",
      "metadata": {
        "id": "SMzu7vEcXWCo"
      },
      "source": [
        "def long(G_string):\n",
        "  cal_Date = DT.datetime(int(nowTime.year-3), nowTime.month, nowTime.day)\n",
        "  cal_Date = cal_Date.strftime(\"%Y%m%d\")\n",
        " \n",
        " \n",
        "  df = stock.get_market_ohlcv_by_date(cal_Date, nowTime, G_string)\n",
        " \n",
        "  print(df['종가'])\n",
        " \n",
        " \n",
        "  line = plt.plot(df['종가'])\n",
        "  plt.setp(line, color='r', linewidth=3.0)\n",
        "  plt.show()\n",
        " \n",
        "  Train_y = np.array(list(df['종가']))\n",
        " \n",
        "  Train_X = np.array(list(range(0,len(df['종가']))))\n",
        "  Test_X = np.array(list(range(len(df['종가']), len(df['종가'])+366)))\n",
        " \n",
        "  Train_X = Train_X.reshape(len(Train_X),1,1)\n",
        "  Test_X =  Test_X.reshape(len(Test_X),1,1)\n",
        " \n",
        " \n",
        "  model = Sequential()\n",
        "  model.add(LSTM(50,activation='relu',return_sequences=True,input_shape=(1,1)))\n",
        "  model.add(LSTM(50,activation='relu'))\n",
        "  model.add(Dense(1))\n",
        "  model.compile(optimizer='adam',loss='mse')\n",
        " \n",
        "  model.fit(Train_X,Train_y,epochs=100,validation_split=0.01,batch_size=5)\n",
        "  test_output = list(model.predict(Test_X,verbose=0))\n",
        " \n",
        " \n",
        "  x = np.arange(0,366)\n",
        "  line = plt.plot(x , test_output)\n",
        "  plt.setp(line, color='r', linewidth=3.0)\n",
        "  plt.show()\n",
        " \n",
        "  df_list = list(df['종가'])\n",
        " \n",
        "  x = np.arange(0,740+368)\n",
        "  y = df_list + test_output\n",
        "  line = plt.plot(x , y)\n",
        "  plt.setp(line, color='blue', linewidth=3.0)\n",
        "  plt.show()"
      ],
      "execution_count": null,
      "outputs": []
    },
    {
      "cell_type": "code",
      "metadata": {
        "id": "l2Qrr7VfXV_9"
      },
      "source": [
        " def short(G_string):\n",
        "  cal_Date = DT.datetime(nowTime.year, int(nowTime.month-2), nowTime.day)\n",
        "  cal_Date = cal_Date.strftime(\"%Y%m%d\")\n",
        "\n",
        "\n",
        "  df = stock.get_market_ohlcv_by_date(cal_Date, nowTime, G_string)\n",
        "\n",
        "  print(df['종가'])\n",
        "\n",
        "\n",
        "  line = plt.plot(df['종가'])\n",
        "  plt.setp(line, color='r', linewidth=3.0)\n",
        "  plt.show()\n",
        "\n",
        "\n",
        "\n",
        "\n",
        "\n",
        "  Train_y = np.array(list(df['종가']))\n",
        "\n",
        "  Train_X = np.array(list(range(0,len(df['종가']))))\n",
        "  Test_X = np.array(list(range(len(df['종가']), len(df['종가'])+14)))\n",
        "\n",
        "  Train_X = Train_X.reshape(len(Train_X),1,1)\n",
        "  Test_X =  Test_X.reshape(len(Test_X),1,1)\n",
        "\n",
        "\n",
        "  model = Sequential()\n",
        "  model.add(LSTM(50,activation='relu',return_sequences=True,input_shape=(1,1)))\n",
        "  model.add(LSTM(50,activation='relu'))\n",
        "  model.add(Dense(1))\n",
        "  model.compile(optimizer='adam',loss='mse')\n",
        "\n",
        "  model.fit(Train_X,Train_y,epochs=100,validation_split=0.01,batch_size=5)\n",
        "  test_output = list(model.predict(Test_X,verbose=0))\n",
        "\n",
        "\n",
        "  x = np.arange(0,14)\n",
        "  line = plt.plot(x , test_output)\n",
        "  plt.setp(line, color='r', linewidth=3.0)\n",
        "  plt.show()\n",
        "\n",
        "  df_list = list(df['종가'])\n",
        "\n",
        "  x = np.arange(0,43+15)\n",
        "  y = df_list + test_output\n",
        "  line = plt.plot(x , y)\n",
        "  plt.setp(line, color='blue', linewidth=3.0)\n",
        "  plt.show()\n",
        "\n",
        "1000 00 00 // 1000"
      ],
      "execution_count": null,
      "outputs": []
    },
    {
      "cell_type": "code",
      "metadata": {
        "id": "ZVp3thlnXWJ-",
        "colab": {
          "base_uri": "https://localhost:8080/",
          "height": 98
        },
        "outputId": "9c223814-0b77-407d-f452-96e86c683b52"
      },
      "source": [
        "if long_or_short =='장타':\n",
        "  long(serch_stock)\n",
        "elif long_or_short == '단타':\n",
        "  short(serch_stock)\n",
        "else:\n",
        "  print('잘못 입력')\n",
        "\n",
        "  #오류가 날경우 단타 장타 함수에 더하기 7 예)x = np.arange(0,43+15 <- 여기에 +(7/9기준 + 지난 날 만큼))"
      ],
      "execution_count": null,
      "outputs": [
        {
          "output_type": "error",
          "ename": "ParseError",
          "evalue": "ignored",
          "traceback": [
            "\u001b[0;36m  File \u001b[0;32m\"<string>\"\u001b[0;36m, line \u001b[0;32munknown\u001b[0m\n\u001b[0;31mParseError\u001b[0m\u001b[0;31m:\u001b[0m XML or text declaration not at start of entity: line 3, column 0\n"
          ]
        }
      ]
    },
    {
      "cell_type": "code",
      "metadata": {
        "id": "iWv-mxvtTsMJ"
      },
      "source": [
        ""
      ],
      "execution_count": null,
      "outputs": []
    }
  ]
}